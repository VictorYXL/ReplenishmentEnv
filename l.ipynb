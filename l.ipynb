{
 "cells": [
  {
   "cell_type": "code",
   "execution_count": 2,
   "metadata": {},
   "outputs": [],
   "source": [
    "from Example.base_stock import *\n",
    "from Example.search_Ss import *\n",
    "\n",
    "\n",
    "exp_name = \"Ss_static_independent\"\n",
    "env_name = \"sku200.single_store.distribution_shift\"\n",
    "vis_path = os.path.join(\"output\", env_name, exp_name)\n",
    "env_train = make_env(env_name, wrapper_names=[\"OracleWrapper\"], mode='train')\n",
    "best_S, best_s = search_independent_Ss(env_train)"
   ]
  },
  {
   "cell_type": "code",
   "execution_count": 4,
   "metadata": {},
   "outputs": [
    {
     "name": "stdout",
     "output_type": "stream",
     "text": [
      "[1249485.666]\n"
     ]
    }
   ],
   "source": [
    "env_test = make_env(env_name, wrapper_names=[\"OracleWrapper\"], mode='test', vis_path=vis_path)\n",
    "_, balance = Ss_policy(env_test, best_S, best_s)\n",
    "print(balance)"
   ]
  }
 ],
 "metadata": {
  "kernelspec": {
   "display_name": "re_rl",
   "language": "python",
   "name": "python3"
  },
  "language_info": {
   "codemirror_mode": {
    "name": "ipython",
    "version": 3
   },
   "file_extension": ".py",
   "mimetype": "text/x-python",
   "name": "python",
   "nbconvert_exporter": "python",
   "pygments_lexer": "ipython3",
   "version": "3.10.5"
  },
  "orig_nbformat": 4
 },
 "nbformat": 4,
 "nbformat_minor": 2
}
